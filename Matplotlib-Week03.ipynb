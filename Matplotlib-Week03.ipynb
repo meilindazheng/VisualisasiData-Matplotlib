{
 "cells": [
  {
   "cell_type": "markdown",
   "metadata": {},
   "source": [
    "# Matplotlib"
   ]
  },
  {
   "cell_type": "markdown",
   "metadata": {},
   "source": [
    "## [Multiple Subplots]\n",
    "Dalam sesi ini kita akan mempelajari :\n",
    "- Simple line plot\n",
    "- Multiple Subplots by Object Oriented Style\n",
    "- Multiple Subplots by Pyplot Style"
   ]
  },
  {
   "cell_type": "code",
   "execution_count": 2,
   "metadata": {},
   "outputs": [],
   "source": [
    "#magic command untuk matplotib\n",
    "%matplotlib inline"
   ]
  },
  {
   "cell_type": "code",
   "execution_count": 3,
   "metadata": {},
   "outputs": [
    {
     "name": "stdout",
     "output_type": "stream",
     "text": [
      "3.2.2\n",
      "1.18.5\n"
     ]
    }
   ],
   "source": [
    "#mengimport module yang digunakan \n",
    "import matplotlib\n",
    "import matplotlib.pyplot as plt\n",
    "import numpy as np\n",
    "#mencetak versi matplotlib dan numpy yang sedang digunakan\n",
    "print(matplotlib.__version__)\n",
    "print(np.__version__)"
   ]
  },
  {
   "cell_type": "markdown",
   "metadata": {},
   "source": [
    "## [Simple Line Plot]"
   ]
  },
  {
   "cell_type": "code",
   "execution_count": 4,
   "metadata": {},
   "outputs": [
    {
     "data": {
      "text/plain": [
       "array([0.  , 0.01, 0.02, 0.03, 0.04, 0.05, 0.06, 0.07, 0.08, 0.09, 0.1 ,\n",
       "       0.11, 0.12, 0.13, 0.14, 0.15, 0.16, 0.17, 0.18, 0.19, 0.2 , 0.21,\n",
       "       0.22, 0.23, 0.24, 0.25, 0.26, 0.27, 0.28, 0.29, 0.3 , 0.31, 0.32,\n",
       "       0.33, 0.34, 0.35, 0.36, 0.37, 0.38, 0.39, 0.4 , 0.41, 0.42, 0.43,\n",
       "       0.44, 0.45, 0.46, 0.47, 0.48, 0.49, 0.5 , 0.51, 0.52, 0.53, 0.54,\n",
       "       0.55, 0.56, 0.57, 0.58, 0.59, 0.6 , 0.61, 0.62, 0.63, 0.64, 0.65,\n",
       "       0.66, 0.67, 0.68, 0.69, 0.7 , 0.71, 0.72, 0.73, 0.74, 0.75, 0.76,\n",
       "       0.77, 0.78, 0.79, 0.8 , 0.81, 0.82, 0.83, 0.84, 0.85, 0.86, 0.87,\n",
       "       0.88, 0.89, 0.9 , 0.91, 0.92, 0.93, 0.94, 0.95, 0.96, 0.97, 0.98,\n",
       "       0.99, 1.  , 1.01, 1.02, 1.03, 1.04, 1.05, 1.06, 1.07, 1.08, 1.09,\n",
       "       1.1 , 1.11, 1.12, 1.13, 1.14, 1.15, 1.16, 1.17, 1.18, 1.19, 1.2 ,\n",
       "       1.21, 1.22, 1.23, 1.24, 1.25, 1.26, 1.27, 1.28, 1.29, 1.3 , 1.31,\n",
       "       1.32, 1.33, 1.34, 1.35, 1.36, 1.37, 1.38, 1.39, 1.4 , 1.41, 1.42,\n",
       "       1.43, 1.44, 1.45, 1.46, 1.47, 1.48, 1.49, 1.5 , 1.51, 1.52, 1.53,\n",
       "       1.54, 1.55, 1.56, 1.57, 1.58, 1.59, 1.6 , 1.61, 1.62, 1.63, 1.64,\n",
       "       1.65, 1.66, 1.67, 1.68, 1.69, 1.7 , 1.71, 1.72, 1.73, 1.74, 1.75,\n",
       "       1.76, 1.77, 1.78, 1.79, 1.8 , 1.81, 1.82, 1.83, 1.84, 1.85, 1.86,\n",
       "       1.87, 1.88, 1.89, 1.9 , 1.91, 1.92, 1.93, 1.94, 1.95, 1.96, 1.97,\n",
       "       1.98, 1.99])"
      ]
     },
     "execution_count": 4,
     "metadata": {},
     "output_type": "execute_result"
    }
   ],
   "source": [
    "#membuat array dengan start point 0 hingga end point 2.0 dengan interval 0.01\n",
    "#starting point bersifat inclusive sedangkan ending point bersifat exclusive\n",
    "x = np.arange(0.0,2.0,0.01)\n",
    "x"
   ]
  },
  {
   "cell_type": "code",
   "execution_count": 5,
   "metadata": {},
   "outputs": [
    {
     "data": {
      "text/plain": [
       "array([ 0.00000000e+00,  6.27905195e-02,  1.25333234e-01,  1.87381315e-01,\n",
       "        2.48689887e-01,  3.09016994e-01,  3.68124553e-01,  4.25779292e-01,\n",
       "        4.81753674e-01,  5.35826795e-01,  5.87785252e-01,  6.37423990e-01,\n",
       "        6.84547106e-01,  7.28968627e-01,  7.70513243e-01,  8.09016994e-01,\n",
       "        8.44327926e-01,  8.76306680e-01,  9.04827052e-01,  9.29776486e-01,\n",
       "        9.51056516e-01,  9.68583161e-01,  9.82287251e-01,  9.92114701e-01,\n",
       "        9.98026728e-01,  1.00000000e+00,  9.98026728e-01,  9.92114701e-01,\n",
       "        9.82287251e-01,  9.68583161e-01,  9.51056516e-01,  9.29776486e-01,\n",
       "        9.04827052e-01,  8.76306680e-01,  8.44327926e-01,  8.09016994e-01,\n",
       "        7.70513243e-01,  7.28968627e-01,  6.84547106e-01,  6.37423990e-01,\n",
       "        5.87785252e-01,  5.35826795e-01,  4.81753674e-01,  4.25779292e-01,\n",
       "        3.68124553e-01,  3.09016994e-01,  2.48689887e-01,  1.87381315e-01,\n",
       "        1.25333234e-01,  6.27905195e-02,  1.22464680e-16, -6.27905195e-02,\n",
       "       -1.25333234e-01, -1.87381315e-01, -2.48689887e-01, -3.09016994e-01,\n",
       "       -3.68124553e-01, -4.25779292e-01, -4.81753674e-01, -5.35826795e-01,\n",
       "       -5.87785252e-01, -6.37423990e-01, -6.84547106e-01, -7.28968627e-01,\n",
       "       -7.70513243e-01, -8.09016994e-01, -8.44327926e-01, -8.76306680e-01,\n",
       "       -9.04827052e-01, -9.29776486e-01, -9.51056516e-01, -9.68583161e-01,\n",
       "       -9.82287251e-01, -9.92114701e-01, -9.98026728e-01, -1.00000000e+00,\n",
       "       -9.98026728e-01, -9.92114701e-01, -9.82287251e-01, -9.68583161e-01,\n",
       "       -9.51056516e-01, -9.29776486e-01, -9.04827052e-01, -8.76306680e-01,\n",
       "       -8.44327926e-01, -8.09016994e-01, -7.70513243e-01, -7.28968627e-01,\n",
       "       -6.84547106e-01, -6.37423990e-01, -5.87785252e-01, -5.35826795e-01,\n",
       "       -4.81753674e-01, -4.25779292e-01, -3.68124553e-01, -3.09016994e-01,\n",
       "       -2.48689887e-01, -1.87381315e-01, -1.25333234e-01, -6.27905195e-02,\n",
       "       -2.44929360e-16,  6.27905195e-02,  1.25333234e-01,  1.87381315e-01,\n",
       "        2.48689887e-01,  3.09016994e-01,  3.68124553e-01,  4.25779292e-01,\n",
       "        4.81753674e-01,  5.35826795e-01,  5.87785252e-01,  6.37423990e-01,\n",
       "        6.84547106e-01,  7.28968627e-01,  7.70513243e-01,  8.09016994e-01,\n",
       "        8.44327926e-01,  8.76306680e-01,  9.04827052e-01,  9.29776486e-01,\n",
       "        9.51056516e-01,  9.68583161e-01,  9.82287251e-01,  9.92114701e-01,\n",
       "        9.98026728e-01,  1.00000000e+00,  9.98026728e-01,  9.92114701e-01,\n",
       "        9.82287251e-01,  9.68583161e-01,  9.51056516e-01,  9.29776486e-01,\n",
       "        9.04827052e-01,  8.76306680e-01,  8.44327926e-01,  8.09016994e-01,\n",
       "        7.70513243e-01,  7.28968627e-01,  6.84547106e-01,  6.37423990e-01,\n",
       "        5.87785252e-01,  5.35826795e-01,  4.81753674e-01,  4.25779292e-01,\n",
       "        3.68124553e-01,  3.09016994e-01,  2.48689887e-01,  1.87381315e-01,\n",
       "        1.25333234e-01,  6.27905195e-02,  3.67394040e-16, -6.27905195e-02,\n",
       "       -1.25333234e-01, -1.87381315e-01, -2.48689887e-01, -3.09016994e-01,\n",
       "       -3.68124553e-01, -4.25779292e-01, -4.81753674e-01, -5.35826795e-01,\n",
       "       -5.87785252e-01, -6.37423990e-01, -6.84547106e-01, -7.28968627e-01,\n",
       "       -7.70513243e-01, -8.09016994e-01, -8.44327926e-01, -8.76306680e-01,\n",
       "       -9.04827052e-01, -9.29776486e-01, -9.51056516e-01, -9.68583161e-01,\n",
       "       -9.82287251e-01, -9.92114701e-01, -9.98026728e-01, -1.00000000e+00,\n",
       "       -9.98026728e-01, -9.92114701e-01, -9.82287251e-01, -9.68583161e-01,\n",
       "       -9.51056516e-01, -9.29776486e-01, -9.04827052e-01, -8.76306680e-01,\n",
       "       -8.44327926e-01, -8.09016994e-01, -7.70513243e-01, -7.28968627e-01,\n",
       "       -6.84547106e-01, -6.37423990e-01, -5.87785252e-01, -5.35826795e-01,\n",
       "       -4.81753674e-01, -4.25779292e-01, -3.68124553e-01, -3.09016994e-01,\n",
       "       -2.48689887e-01, -1.87381315e-01, -1.25333234e-01, -6.27905195e-02])"
      ]
     },
     "execution_count": 5,
     "metadata": {},
     "output_type": "execute_result"
    }
   ],
   "source": [
    "# dalam trigonometri nillai 2 * pi * x adalah radian\n",
    "# membentuk array yang berisi nilai sinus dari data point sebelumnya\n",
    "s = np.sin(2*np.pi*x)\n",
    "s"
   ]
  },
  {
   "cell_type": "code",
   "execution_count": 6,
   "metadata": {},
   "outputs": [
    {
     "data": {
      "image/png": "[encoded data removed]",
      "text/plain": [
       "<Figure size 432x288 with 1 Axes>"
      ]
     },
     "metadata": {
      "needs_background": "light"
     },
     "output_type": "display_data"
    }
   ],
   "source": [
    "# melakukan plotting dengan OO Style \n",
    "# variabel pertama akan menampung figure dan variabel kedua akan menampung axes\n",
    "fig,ax = plt.subplots()\n",
    "#plotting akan dilakukan dengan 'x' sebagai sumbu x dan 's' sebagai sumbu y\n",
    "ax.plot(x,s)\n",
    "ax.set(xlabel ='nilai x',\n",
    "      ylabel  ='nilai sin(x)',\n",
    "      title   ='Visualisasi data sin')\n",
    "# ax.grid() merupakan fungsi untuk menampilkan kotak-kotak samar pada area plotting\n",
    "ax.grid()\n",
    "plt.show()"
   ]
  },
  {
   "cell_type": "code",
   "execution_count": null,
   "metadata": {},
   "outputs": [],
   "source": []
  }
 ],
 "metadata": {
  "kernelspec": {
   "display_name": "Python 3",
   "language": "python",
   "name": "python3"
  },
  "language_info": {
   "codemirror_mode": {
    "name": "ipython",
    "version": 3
   },
   "file_extension": ".py",
   "mimetype": "text/x-python",
   "name": "python",
   "nbconvert_exporter": "python",
   "pygments_lexer": "ipython3",
   "version": "3.8.3"
  }
 },
 "nbformat": 4,
 "nbformat_minor": 4
}

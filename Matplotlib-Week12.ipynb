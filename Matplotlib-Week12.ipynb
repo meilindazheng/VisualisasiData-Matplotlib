{
 "cells": [
  {
   "attachments": {
    "matplotlib.png": {
     "image/png": "[encoded data removed]"
    }
   },
   "cell_type": "markdown",
   "metadata": {},
   "source": [
    "![matplotlib.png](attachment:matplotlib.png)"
   ]
  },
  {
   "cell_type": "markdown",
   "metadata": {},
   "source": [
    "## Visualisasi Data yang Tersimpan Dalam Pandas Data Frame [Bagian I]"
   ]
  },
  {
   "cell_type": "markdown",
   "metadata": {},
   "source": [
    "### Import Module"
   ]
  },
  {
   "cell_type": "code",
   "execution_count": 1,
   "metadata": {},
   "outputs": [],
   "source": [
    "%matplotlib inline"
   ]
  },
  {
   "cell_type": "code",
   "execution_count": 2,
   "metadata": {},
   "outputs": [
    {
     "name": "stdout",
     "output_type": "stream",
     "text": [
      "3.2.2\n",
      "1.0.5\n"
     ]
    }
   ],
   "source": [
    "import matplotlib\n",
    "import matplotlib.pyplot as plt\n",
    "import pandas as pd\n",
    "\n",
    "print(matplotlib.__version__)\n",
    "print(pd.__version__)"
   ]
  },
  {
   "cell_type": "markdown",
   "metadata": {},
   "source": [
    "### Sample Data Set\n",
    "- Dataframe merupakan data set yang berisikan data dalam bentuk dictionary \n",
    "- Pandas DataFrame yang dibentuk terdiri dari 6 kolom yaitu : nama ,usia,gender,propinsi,n_anak,n_pets\n",
    "- Kolom n_anak akan mengindikasikan jumlah anak\n",
    "- Kolom n_pets akan berasosiasi dengan jumlah hewan peliharaan "
   ]
  },
  {
   "cell_type": "code",
   "execution_count": 4,
   "metadata": {},
   "outputs": [
    {
     "data": {
      "text/html": [
       "<div>\n",
       "<style scoped>\n",
       "    .dataframe tbody tr th:only-of-type {\n",
       "        vertical-align: middle;\n",
       "    }\n",
       "\n",
       "    .dataframe tbody tr th {\n",
       "        vertical-align: top;\n",
       "    }\n",
       "\n",
       "    .dataframe thead th {\n",
       "        text-align: right;\n",
       "    }\n",
       "</style>\n",
       "<table border=\"1\" class=\"dataframe\">\n",
       "  <thead>\n",
       "    <tr style=\"text-align: right;\">\n",
       "      <th></th>\n",
       "      <th>nama</th>\n",
       "      <th>usia</th>\n",
       "      <th>gender</th>\n",
       "      <th>propinsi</th>\n",
       "      <th>n_anak</th>\n",
       "      <th>n_pets</th>\n",
       "    </tr>\n",
       "  </thead>\n",
       "  <tbody>\n",
       "    <tr>\n",
       "      <th>0</th>\n",
       "      <td>cecep</td>\n",
       "      <td>23</td>\n",
       "      <td>L</td>\n",
       "      <td>jabar</td>\n",
       "      <td>2</td>\n",
       "      <td>5</td>\n",
       "    </tr>\n",
       "    <tr>\n",
       "      <th>1</th>\n",
       "      <td>karti</td>\n",
       "      <td>78</td>\n",
       "      <td>P</td>\n",
       "      <td>jatim</td>\n",
       "      <td>0</td>\n",
       "      <td>1</td>\n",
       "    </tr>\n",
       "    <tr>\n",
       "      <th>2</th>\n",
       "      <td>bejo</td>\n",
       "      <td>22</td>\n",
       "      <td>L</td>\n",
       "      <td>jabar</td>\n",
       "      <td>0</td>\n",
       "      <td>0</td>\n",
       "    </tr>\n",
       "    <tr>\n",
       "      <th>3</th>\n",
       "      <td>tejo</td>\n",
       "      <td>19</td>\n",
       "      <td>L</td>\n",
       "      <td>jatim</td>\n",
       "      <td>3</td>\n",
       "      <td>5</td>\n",
       "    </tr>\n",
       "    <tr>\n",
       "      <th>4</th>\n",
       "      <td>asep</td>\n",
       "      <td>45</td>\n",
       "      <td>L</td>\n",
       "      <td>jabar</td>\n",
       "      <td>2</td>\n",
       "      <td>2</td>\n",
       "    </tr>\n",
       "    <tr>\n",
       "      <th>5</th>\n",
       "      <td>wati</td>\n",
       "      <td>33</td>\n",
       "      <td>P</td>\n",
       "      <td>jateng</td>\n",
       "      <td>1</td>\n",
       "      <td>2</td>\n",
       "    </tr>\n",
       "    <tr>\n",
       "      <th>6</th>\n",
       "      <td>amat</td>\n",
       "      <td>20</td>\n",
       "      <td>L</td>\n",
       "      <td>jateng</td>\n",
       "      <td>4</td>\n",
       "      <td>3</td>\n",
       "    </tr>\n",
       "  </tbody>\n",
       "</table>\n",
       "</div>"
      ],
      "text/plain": [
       "    nama  usia gender propinsi  n_anak  n_pets\n",
       "0  cecep    23      L    jabar       2       5\n",
       "1  karti    78      P    jatim       0       1\n",
       "2   bejo    22      L    jabar       0       0\n",
       "3   tejo    19      L    jatim       3       5\n",
       "4   asep    45      L    jabar       2       2\n",
       "5   wati    33      P   jateng       1       2\n",
       "6   amat    20      L   jateng       4       3"
      ]
     },
     "execution_count": 4,
     "metadata": {},
     "output_type": "execute_result"
    }
   ],
   "source": [
    "df = pd.DataFrame({\n",
    "    'nama':['cecep','karti','bejo','tejo','asep','wati','amat'],\n",
    "    'usia':[23,78,22,19,45,33,20],\n",
    "    'gender':['L','P','L','L','L','P','L'],\n",
    "    'propinsi':['jabar','jatim','jabar','jatim','jabar','jateng','jateng'],\n",
    "    'n_anak':[2,0,0,3,2,1,4],\n",
    "    'n_pets':[5,1,0,5,2,2,3]\n",
    "})\n",
    "df"
   ]
  },
  {
   "cell_type": "code",
   "execution_count": null,
   "metadata": {},
   "outputs": [],
   "source": []
  }
 ],
 "metadata": {
  "kernelspec": {
   "display_name": "Python 3",
   "language": "python",
   "name": "python3"
  },
  "language_info": {
   "codemirror_mode": {
    "name": "ipython",
    "version": 3
   },
   "file_extension": ".py",
   "mimetype": "text/x-python",
   "name": "python",
   "nbconvert_exporter": "python",
   "pygments_lexer": "ipython3",
   "version": "3.8.3"
  }
 },
 "nbformat": 4,
 "nbformat_minor": 4
}

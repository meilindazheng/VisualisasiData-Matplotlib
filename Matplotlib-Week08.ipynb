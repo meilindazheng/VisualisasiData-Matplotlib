{
 "cells": [
  {
   "attachments": {
    "matplotlib.png": {
     "image/png": "[encoded data removed]"
    }
   },
   "cell_type": "markdown",
   "metadata": {},
   "source": [
    "![matplotlib.png](attachment:matplotlib.png)"
   ]
  },
  {
   "cell_type": "markdown",
   "metadata": {},
   "source": [
    "## Plot Lifecycle"
   ]
  },
  {
   "cell_type": "markdown",
   "metadata": {},
   "source": [
    "### Import Module"
   ]
  },
  {
   "cell_type": "code",
   "execution_count": 1,
   "metadata": {},
   "outputs": [],
   "source": [
    "%matplotlib inline"
   ]
  },
  {
   "cell_type": "code",
   "execution_count": 2,
   "metadata": {},
   "outputs": [
    {
     "name": "stdout",
     "output_type": "stream",
     "text": [
      "3.2.2\n",
      "1.18.5\n"
     ]
    }
   ],
   "source": [
    "import matplotlib\n",
    "import matplotlib.pyplot as plt\n",
    "import numpy as np\n",
    "\n",
    "print(matplotlib.__version__)\n",
    "print(np.__version__)"
   ]
  },
  {
   "cell_type": "markdown",
   "metadata": {},
   "source": [
    "### Sample Data Set\n",
    "- Membentuk sample data set dengan struktur data dictionary\n",
    "- Mengekstrak keys dari dictionary dengan method .keys()\n",
    "- Mengekstrak value dari dictionary dengan method .values()"
   ]
  },
  {
   "cell_type": "code",
   "execution_count": 3,
   "metadata": {},
   "outputs": [
    {
     "data": {
      "text/plain": [
       "{'Item A': 109438,\n",
       " 'Item B': 103569,\n",
       " 'Item C': 112214,\n",
       " 'Item D': 112591,\n",
       " 'Item E': 100934,\n",
       " 'Item F': 103660,\n",
       " 'Item G': 137351,\n",
       " 'Item H': 123381,\n",
       " 'Item I': 135841,\n",
       " 'Item J': 104437}"
      ]
     },
     "execution_count": 3,
     "metadata": {},
     "output_type": "execute_result"
    }
   ],
   "source": [
    "data = {'Item A' : 109438,\n",
    "        'Item B' : 103569,\n",
    "        'Item C' : 112214,\n",
    "        'Item D' : 112591,\n",
    "        'Item E' : 100934,\n",
    "        'Item F' : 103660,\n",
    "        'Item G' : 137351,\n",
    "        'Item H' : 123381,\n",
    "        'Item I' : 135841,\n",
    "        'Item J' : 104437,\n",
    "}\n",
    "data"
   ]
  },
  {
   "cell_type": "code",
   "execution_count": 4,
   "metadata": {},
   "outputs": [
    {
     "data": {
      "text/plain": [
       "('Item A',\n",
       " 'Item B',\n",
       " 'Item C',\n",
       " 'Item D',\n",
       " 'Item E',\n",
       " 'Item F',\n",
       " 'Item G',\n",
       " 'Item H',\n",
       " 'Item I',\n",
       " 'Item J')"
      ]
     },
     "execution_count": 4,
     "metadata": {},
     "output_type": "execute_result"
    }
   ],
   "source": [
    "items = tuple(data.keys())\n",
    "items"
   ]
  },
  {
   "cell_type": "code",
   "execution_count": 6,
   "metadata": {},
   "outputs": [
    {
     "data": {
      "text/plain": [
       "(109438,\n",
       " 103569,\n",
       " 112214,\n",
       " 112591,\n",
       " 100934,\n",
       " 103660,\n",
       " 137351,\n",
       " 123381,\n",
       " 135841,\n",
       " 104437)"
      ]
     },
     "execution_count": 6,
     "metadata": {},
     "output_type": "execute_result"
    }
   ],
   "source": [
    "count = tuple(data.values())\n",
    "count"
   ]
  },
  {
   "cell_type": "markdown",
   "metadata": {},
   "source": [
    "### Simple Plot\n",
    "- melakukan plotting sederhana dengan OOS\n",
    "- plotting horizontal dengan fungsi .barh()"
   ]
  },
  {
   "cell_type": "code",
   "execution_count": 7,
   "metadata": {},
   "outputs": [
    {
     "data": {
      "image/png": "[encoded data removed]",
      "text/plain": [
       "<Figure size 432x288 with 1 Axes>"
      ]
     },
     "metadata": {
      "needs_background": "light"
     },
     "output_type": "display_data"
    }
   ],
   "source": [
    "fig,ax = plt.subplots()\n",
    "ax.barh(items,count)\n",
    "plt.show()"
   ]
  },
  {
   "cell_type": "code",
   "execution_count": null,
   "metadata": {},
   "outputs": [],
   "source": []
  }
 ],
 "metadata": {
  "kernelspec": {
   "display_name": "Python 3",
   "language": "python",
   "name": "python3"
  },
  "language_info": {
   "codemirror_mode": {
    "name": "ipython",
    "version": 3
   },
   "file_extension": ".py",
   "mimetype": "text/x-python",
   "name": "python",
   "nbconvert_exporter": "python",
   "pygments_lexer": "ipython3",
   "version": "3.8.3"
  }
 },
 "nbformat": 4,
 "nbformat_minor": 4
}
